{
 "cells": [
  {
   "cell_type": "code",
   "execution_count": 1,
   "metadata": {},
   "outputs": [],
   "source": [
    "from drift_agrawal import SubgroupAgrawalDrift"
   ]
  },
  {
   "cell_type": "code",
   "execution_count": 2,
   "metadata": {},
   "outputs": [],
   "source": [
    "import numpy as np\n",
    "deltas = []\n",
    "for i in range(1000):\n",
    "    frac = np.random.random()\n",
    "    sda = SubgroupAgrawalDrift(sg_size=frac, position=0, width=10_000)\n",
    "    deltas.append(abs(frac - sda.sg_size))"
   ]
  },
  {
   "cell_type": "code",
   "execution_count": 3,
   "metadata": {},
   "outputs": [
    {
     "name": "stdout",
     "output_type": "stream",
     "text": [
      "0.844\n"
     ]
    },
    {
     "data": {
      "image/png": "[encoded data removed]",
      "text/plain": [
       "<Figure size 600x200 with 1 Axes>"
      ]
     },
     "metadata": {},
     "output_type": "display_data"
    }
   ],
   "source": [
    "import matplotlib.pyplot as plt\n",
    "\n",
    "fig, ax = plt.subplots(figsize=(6, 2))\n",
    "ax.hist(deltas, bins=45, color='tab:blue', edgecolor='black', linewidth=0.7)\n",
    "ax.axvline(1e-2, color='r')\n",
    "ax.grid()\n",
    "ax.set_axisbelow(True)\n",
    "ax.set_xlabel('| (Target size) - (Obtained size) |')\n",
    "ax.set_ylabel('Frequency')\n",
    "print(sum([1 for d in deltas if d <= 1e-2]) / len(deltas))\n",
    "fig.savefig(\"distrib-delta.pdf\", bbox_inches='tight')"
   ]
  },
  {
   "cell_type": "code",
   "execution_count": 4,
   "metadata": {},
   "outputs": [],
   "source": [
    "def get_actual(sda):\n",
    "    is_drifting = []\n",
    "    drifted = []\n",
    "    for x,y,isd,d in sda.take(10_000, drift_info=True):\n",
    "        is_drifting.append(isd)\n",
    "        drifted.append(d)\n",
    "    return sum(is_drifting) / len(is_drifting)"
   ]
  },
  {
   "cell_type": "code",
   "execution_count": 5,
   "metadata": {},
   "outputs": [],
   "source": [
    "def format_sg(s):\n",
    "    return \" $\\\\land$ \\\\\\\\\".join([f\"{k} $\\\\in$ [{v[0]}, {v[1]})\" for k,v in s.items() ])"
   ]
  },
  {
   "cell_type": "code",
   "execution_count": 6,
   "metadata": {},
   "outputs": [],
   "source": [
    "sg_sizes = [ 0.05, 0.1, 0.25, 0.5]\n",
    "\n",
    "rows = []\n",
    "index = []\n",
    "\n",
    "for sg_size in sg_sizes:\n",
    "    sda = SubgroupAgrawalDrift(sg_size=sg_size, position=0, width=10_000)\n",
    "    row = [round(sg_size, 4), round(sda.sg_size,4), round(get_actual(sda), 4)]\n",
    "    rows.append(row)\n",
    "    index.append(format_sg(sda.sg))\n"
   ]
  },
  {
   "cell_type": "code",
   "execution_count": 7,
   "metadata": {},
   "outputs": [],
   "source": [
    "import pandas as pd\n",
    "\n",
    "df = pd.DataFrame(rows, columns=['Target size', 'Computed size', 'Actual size'], index=index)"
   ]
  },
  {
   "cell_type": "code",
   "execution_count": 8,
   "metadata": {},
   "outputs": [
    {
     "data": {
      "text/html": [
       "<div>\n",
       "<style scoped>\n",
       "    .dataframe tbody tr th:only-of-type {\n",
       "        vertical-align: middle;\n",
       "    }\n",
       "\n",
       "    .dataframe tbody tr th {\n",
       "        vertical-align: top;\n",
       "    }\n",
       "\n",
       "    .dataframe thead th {\n",
       "        text-align: right;\n",
       "    }\n",
       "</style>\n",
       "<table border=\"1\" class=\"dataframe\">\n",
       "  <thead>\n",
       "    <tr style=\"text-align: right;\">\n",
       "      <th></th>\n",
       "      <th>Target size</th>\n",
       "      <th>Computed size</th>\n",
       "      <th>Actual size</th>\n",
       "    </tr>\n",
       "  </thead>\n",
       "  <tbody>\n",
       "    <tr>\n",
       "      <th>salary $\\in$ [42000, 61000) $\\land$ \\\\age $\\in$ [34, 60) $\\land$ \\\\loan $\\in$ [15000, 455000)</th>\n",
       "      <td>0.05</td>\n",
       "      <td>0.0543</td>\n",
       "      <td>0.0556</td>\n",
       "    </tr>\n",
       "    <tr>\n",
       "      <th>zipcode $\\in$ [5, 6) $\\land$ \\\\hyears $\\in$ [1, 30)</th>\n",
       "      <td>0.10</td>\n",
       "      <td>0.1074</td>\n",
       "      <td>0.1043</td>\n",
       "    </tr>\n",
       "    <tr>\n",
       "      <th>zipcode $\\in$ [2, 8) $\\land$ \\\\elevel $\\in$ [0, 4) $\\land$ \\\\car $\\in$ [4, 20) $\\land$ \\\\hyears $\\in$ [10, 29) $\\land$ \\\\age $\\in$ [20, 77)</th>\n",
       "      <td>0.25</td>\n",
       "      <td>0.2525</td>\n",
       "      <td>0.2573</td>\n",
       "    </tr>\n",
       "    <tr>\n",
       "      <th>loan $\\in$ [22000, 376000) $\\land$ \\\\elevel $\\in$ [0, 4) $\\land$ \\\\salary $\\in$ [21000, 150000) $\\land$ \\\\hyears $\\in$ [2, 29)</th>\n",
       "      <td>0.50</td>\n",
       "      <td>0.5010</td>\n",
       "      <td>0.5116</td>\n",
       "    </tr>\n",
       "  </tbody>\n",
       "</table>\n",
       "</div>"
      ],
      "text/plain": [
       "                                                    Target size  \\\n",
       "salary $\\in$ [42000, 61000) $\\land$ \\\\age $\\in$...         0.05   \n",
       "zipcode $\\in$ [5, 6) $\\land$ \\\\hyears $\\in$ [1,...         0.10   \n",
       "zipcode $\\in$ [2, 8) $\\land$ \\\\elevel $\\in$ [0,...         0.25   \n",
       "loan $\\in$ [22000, 376000) $\\land$ \\\\elevel $\\i...         0.50   \n",
       "\n",
       "                                                    Computed size  Actual size  \n",
       "salary $\\in$ [42000, 61000) $\\land$ \\\\age $\\in$...         0.0543       0.0556  \n",
       "zipcode $\\in$ [5, 6) $\\land$ \\\\hyears $\\in$ [1,...         0.1074       0.1043  \n",
       "zipcode $\\in$ [2, 8) $\\land$ \\\\elevel $\\in$ [0,...         0.2525       0.2573  \n",
       "loan $\\in$ [22000, 376000) $\\land$ \\\\elevel $\\i...         0.5010       0.5116  "
      ]
     },
     "execution_count": 8,
     "metadata": {},
     "output_type": "execute_result"
    }
   ],
   "source": [
    "df"
   ]
  },
  {
   "cell_type": "code",
   "execution_count": 9,
   "metadata": {},
   "outputs": [
    {
     "name": "stdout",
     "output_type": "stream",
     "text": [
      "\\begin{tabular}{lrrr}\n",
      "\\toprule\n",
      " & Target size & Computed size & Actual size \\\\\n",
      "\\midrule\n",
      "salary $\\in$ [42000, 61000) $\\land$ \\\\age $\\in$ [34, 60) $\\land$ \\\\loan $\\in$ [15000, 455000) & 0.0500 & 0.0543 & 0.0556 \\\\\n",
      "zipcode $\\in$ [5, 6) $\\land$ \\\\hyears $\\in$ [1, 30) & 0.1000 & 0.1074 & 0.1043 \\\\\n",
      "zipcode $\\in$ [2, 8) $\\land$ \\\\elevel $\\in$ [0, 4) $\\land$ \\\\car $\\in$ [4, 20) $\\land$ \\\\hyears $\\in$ [10, 29) $\\land$ \\\\age $\\in$ [20, 77) & 0.2500 & 0.2525 & 0.2573 \\\\\n",
      "loan $\\in$ [22000, 376000) $\\land$ \\\\elevel $\\in$ [0, 4) $\\land$ \\\\salary $\\in$ [21000, 150000) $\\land$ \\\\hyears $\\in$ [2, 29) & 0.5000 & 0.5010 & 0.5116 \\\\\n",
      "\\bottomrule\n",
      "\\end{tabular}\n",
      "\n"
     ]
    }
   ],
   "source": [
    "print(df.to_latex(float_format=\"%.4f\"))"
   ]
  }
 ],
 "metadata": {
  "kernelspec": {
   "display_name": "venv",
   "language": "python",
   "name": "python3"
  },
  "language_info": {
   "codemirror_mode": {
    "name": "ipython",
    "version": 3
   },
   "file_extension": ".py",
   "mimetype": "text/x-python",
   "name": "python",
   "nbconvert_exporter": "python",
   "pygments_lexer": "ipython3",
   "version": "3.10.12"
  }
 },
 "nbformat": 4,
 "nbformat_minor": 2
}
