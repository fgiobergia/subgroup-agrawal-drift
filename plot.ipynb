{
 "cells": [
  {
   "cell_type": "code",
   "execution_count": 53,
   "metadata": {},
   "outputs": [],
   "source": [
    "import matplotlib.pyplot as plt\n",
    "import pickle\n",
    "\n",
    "perturbation=\"0.1\"\n",
    "sg=\"0.012589254117941675\"\n",
    "\n",
    "with open(f\"results/sg_{sg}_pert_{perturbation}_nruns_10.pkl\", \"rb\") as f:\n",
    "    results = pickle.load(f)\n"
   ]
  },
  {
   "cell_type": "code",
   "execution_count": 55,
   "metadata": {},
   "outputs": [
    {
     "name": "stdout",
     "output_type": "stream",
     "text": [
      "20 20\n"
     ]
    }
   ],
   "source": [
    "key = [ k for k in results if k[0] == \"DDM\"][0]\n",
    "y_true, y_pred = results[key][\"y_true\"], results[key][\"y_pred\"]\n",
    "print(len(y_true), len(y_pred))"
   ]
  },
  {
   "cell_type": "code",
   "execution_count": 56,
   "metadata": {},
   "outputs": [
    {
     "name": "stdout",
     "output_type": "stream",
     "text": [
      "best threshold 1.0\n",
      "0.65\n",
      "0.46153846153846156\n"
     ]
    }
   ],
   "source": [
    "from sklearn.metrics import accuracy_score, f1_score\n",
    "\n",
    "from sklearn.metrics import roc_curve\n",
    "import numpy as np\n",
    "\n",
    "fpr, tpr, thresh = roc_curve(y_true, y_pred)\n",
    "best_thresh = thresh[np.argmax(tpr - fpr)]\n",
    "\n",
    "print(\"best threshold\", best_thresh)\n",
    "\n",
    "y_pred = (y_pred >= best_thresh).astype(int)\n",
    "\n",
    "print(accuracy_score(y_true, y_pred))\n",
    "print(f1_score(y_true, y_pred))"
   ]
  }
 ],
 "metadata": {
  "kernelspec": {
   "display_name": "Python 3",
   "language": "python",
   "name": "python3"
  },
  "language_info": {
   "codemirror_mode": {
    "name": "ipython",
    "version": 3
   },
   "file_extension": ".py",
   "mimetype": "text/x-python",
   "name": "python",
   "nbconvert_exporter": "python",
   "pygments_lexer": "ipython3",
   "version": "3.11.5"
  }
 },
 "nbformat": 4,
 "nbformat_minor": 2
}
